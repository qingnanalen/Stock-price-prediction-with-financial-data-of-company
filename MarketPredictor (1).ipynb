{
 "cells": [
  {
   "cell_type": "markdown",
   "metadata": {
    "id": "8IIBpo-gdLVJ"
   },
   "source": [
    "Required Files at Working Directory\n",
    "\n",
    "\n",
    "1.   main.csv\n",
    "2.   nasdaq_screener.csv\n",
    "\n"
   ]
  },
  {
   "cell_type": "markdown",
   "metadata": {
    "id": "AGqjvbxSUDmu"
   },
   "source": [
    "# Import Libraries"
   ]
  },
  {
   "cell_type": "code",
   "execution_count": 1,
   "metadata": {
    "id": "GwqobcKvT_ot"
   },
   "outputs": [],
   "source": [
    "import torch\n",
    "from torch.utils.data import DataLoader, TensorDataset\n",
    "import numpy as np\n",
    "import pandas as pd\n",
    "import os\n",
    "import math\n",
    "import torch.nn as nn\n",
    "import torch.optim as optim\n",
    "import torch.nn.functional as F\n",
    "from tqdm import tqdm\n",
    "import matplotlib.pyplot as plt\n",
    "from sklearn.model_selection import train_test_split\n",
    "from sklearn.metrics import mean_absolute_error,mean_absolute_percentage_error\n",
    "import json\n",
    "from sklearn.metrics import mean_absolute_percentage_error"
   ]
  },
  {
   "cell_type": "markdown",
   "metadata": {
    "id": "96xhX_0mUPBJ"
   },
   "source": [
    "# Set Working Directory"
   ]
  },
  {
   "cell_type": "code",
   "execution_count": 2,
   "metadata": {
    "id": "BNo7VoK-US1o"
   },
   "outputs": [],
   "source": [
    "work_dir=r\"C:\\Users\\17436\\OneDrive\\desktop\\ECSE 552\\Project\\final_results1\""
   ]
  },
  {
   "cell_type": "markdown",
   "metadata": {
    "id": "F43LdsZ8UJlE"
   },
   "source": [
    "# Load Data"
   ]
  },
  {
   "cell_type": "code",
   "execution_count": 3,
   "metadata": {
    "id": "1fA_OHgtULcd"
   },
   "outputs": [
    {
     "name": "stdout",
     "output_type": "stream",
     "text": [
      "Number of companies with more than 80 samples: 1658\n",
      "109\n"
     ]
    }
   ],
   "source": [
    "data = pd.read_csv(r\"C:\\Users\\17436\\OneDrive\\desktop\\ECSE 552\\Project\\dataset\\main.csv\")\n",
    "cols_to_drop = data.columns[data.columns.str.contains('fiscal_quarter_key')]\n",
    "data.drop(cols_to_drop, axis=1, inplace=True)\n",
    "grouped = data.groupby('Symbol')\n",
    "\n",
    "# Count the number of samples per symbol\n",
    "lengths = [(symbol, len(group)) for symbol, group in grouped]\n",
    "lengths_sorted = sorted(lengths, key=lambda x: x[1])\n",
    "\n",
    "# Count the number of companies with more than or equal to 80 samples\n",
    "count = sum(1 for symbol, length in lengths_sorted if length >= 80)\n",
    "print(\"Number of companies with more than 80 samples:\", count)\n",
    "stockno = count\n",
    "# Filter subgroups with more than or equal to 80 samples\n",
    "filtered_groups = [(symbol, group) for symbol, group in grouped if len(group) >=80]\n",
    "\n",
    "# Define a function to truncate each subgroup to 80 samples\n",
    "def truncate_to_80(group):\n",
    "    return group.iloc[:80]\n",
    "\n",
    "# Apply the truncation function to each subgroup in filtered_groups\n",
    "truncated_groups = [(symbol, truncate_to_80(group)) for symbol, group in filtered_groups]\n",
    "filtered_data = pd.concat([group for symbol, group in truncated_groups])\n",
    "companies = filtered_data['Symbol'].unique()\n",
    "cols_to_drop = data.columns[data.columns.str.contains('Symbol')]\n",
    "filtered_data.drop(cols_to_drop, axis=1, inplace=True)\n",
    "cols_to_drop = data.columns[data.columns.str.contains('period_end_date')]\n",
    "filtered_data.drop(cols_to_drop, axis=1, inplace=True)\n",
    "cols_to_drop = data.columns[data.columns.str.contains('fiscal_quarter_number')]\n",
    "filtered_data.drop(cols_to_drop, axis=1, inplace=True)\n",
    "data = filtered_data.to_numpy()\n",
    "print(len(data[0]))"
   ]
  },
  {
   "cell_type": "markdown",
   "metadata": {
    "id": "BD89p_PWUXHm"
   },
   "source": [
    "# PreProcessing"
   ]
  },
  {
   "cell_type": "code",
   "execution_count": 4,
   "metadata": {
    "id": "DBn3bk7gUZ5A"
   },
   "outputs": [],
   "source": [
    "def pre_process(data,sequence_length,overlap,batch_size):\n",
    "  # here 70 samples are grouped together into a sub group : Train and 10 : Test\n",
    "  grouped_data = []\n",
    "  grouped_data_test = []\n",
    "  for i in range(stockno):\n",
    "      train_start_index = i*80\n",
    "      train_end_index = (i+1)*80-10\n",
    "\n",
    "      test_start_index = train_end_index\n",
    "      test_end_index = test_start_index + 10\n",
    "\n",
    "      grouped_data.append(data[train_start_index:train_end_index])\n",
    "      grouped_data_test.append(data[test_start_index:test_end_index])\n",
    "  grouped_data = np.array(grouped_data) # contains data for each company in subgroup\n",
    "  len(grouped_data[-1])\n",
    "  grouped_data[0][0:0+sequence_length]\n",
    "\n",
    "  # this cell normnalize the dataset by groupwise\n",
    "  train_mean_ref=[]\n",
    "  train_std_ref=[]\n",
    "\n",
    "  test_mean_ref=[]\n",
    "  test_std_ref=[]\n",
    "\n",
    "  for i in range(len(grouped_data)):\n",
    "      mean_vector = np.mean(grouped_data[i], axis=0)\n",
    "      std_vector = np.std(grouped_data[i], axis=0)\n",
    "\n",
    "      # Check for zero standard deviation\n",
    "      zero_std_indices = np.where(std_vector == 0)[0]\n",
    "\n",
    "      # Avoid division by zero and handle NaN\n",
    "      std_vector[std_vector == 0] = 1  # Replace zero standard deviations with 1 to avoid division by zero\n",
    "\n",
    "      # Reference of mean and std\n",
    "      train_mean_ref.append(mean_vector)\n",
    "      train_std_ref.append(std_vector)\n",
    "      # Normalize the data\n",
    "      normalized_data = (grouped_data[i] - mean_vector) / std_vector\n",
    "\n",
    "      # Handle elements where standard deviation was zero\n",
    "      normalized_data[:, zero_std_indices] = 0  # Set corresponding elements to zero\n",
    "\n",
    "      # Assign the normalized data back to grouped_data\n",
    "      grouped_data[i] = normalized_data\n",
    "\n",
    "\n",
    "  for i in range(len(grouped_data_test)):\n",
    "      mean_vector = np.mean(grouped_data_test[i], axis=0)\n",
    "      std_vector = np.std(grouped_data_test[i], axis=0)\n",
    "\n",
    "      # Check for zero standard deviation\n",
    "      zero_std_indices = np.where(std_vector == 0)[0]\n",
    "\n",
    "      # Avoid division by zero and handle NaN\n",
    "      std_vector[std_vector == 0] = 1  # Replace zero standard deviations with 1 to avoid division by zero\n",
    "\n",
    "      # Reference of mean and std\n",
    "      test_mean_ref.append(mean_vector)\n",
    "      test_std_ref.append(std_vector)\n",
    "      # Normalize the data\n",
    "      normalized_data = (grouped_data_test[i] - mean_vector) / std_vector\n",
    "\n",
    "      # Handle elements where standard deviation was zero\n",
    "      normalized_data[:, zero_std_indices] = 0  # Set corresponding elements to zero\n",
    "\n",
    "      # Assign the normalized data back to grouped_data\n",
    "      grouped_data_test[i] = normalized_data\n",
    "\n",
    "\n",
    "\n",
    "  dataset=[]\n",
    "  for i in range(len(grouped_data)):#1658\n",
    "      for j in range(len(grouped_data[i])):#70\n",
    "          if j*(sequence_length - overlap)+sequence_length < len(grouped_data[i]):\n",
    "              datapoint = grouped_data[i][j*(sequence_length - overlap):j*(sequence_length - overlap)+sequence_length]\n",
    "              #print(len(datapoint))\n",
    "              dataset.append(datapoint)\n",
    "          else:\n",
    "              break\n",
    "  dataset_test=[]\n",
    "  for i in range(len(grouped_data_test)):#1658\n",
    "      for j in range(len(grouped_data_test[i])):#70\n",
    "          if j*(sequence_length - overlap)+sequence_length < len(grouped_data_test[i]):\n",
    "              datapoint = grouped_data_test[i][j*(sequence_length - overlap):j*(sequence_length - overlap)+sequence_length]\n",
    "              dataset_test.append(datapoint)\n",
    "          else:\n",
    "              break\n",
    "\n",
    "\n",
    "\n",
    "  dataset = np.array(dataset)\n",
    "  features = dataset[:, :, :-1]\n",
    "\n",
    "  dataset_test = np.array(dataset_test)\n",
    "  features_test = dataset_test[:, :, :-1]\n",
    "  print(features.shape, features_test.shape)\n",
    "\n",
    "\n",
    "\n",
    "  targets = []\n",
    "  for i in range(len(grouped_data)):#1658\n",
    "      for j in range(len(grouped_data[i])):#70\n",
    "          if j*(sequence_length - overlap)+sequence_length < len(grouped_data[i]):\n",
    "              target = grouped_data[i][j*(sequence_length - overlap)+sequence_length][-1]\n",
    "              targets.append(target)\n",
    "          else:\n",
    "              break\n",
    "\n",
    "  targets_test = []\n",
    "  for i in range(len(grouped_data_test)):#1658\n",
    "      for j in range(len(grouped_data_test[i])):#10\n",
    "          if j*(sequence_length - overlap)+sequence_length < len(grouped_data_test[i]):\n",
    "              target = grouped_data_test[i][j*(sequence_length - overlap)+sequence_length][-1]\n",
    "\n",
    "              targets_test.append(target)\n",
    "          else:\n",
    "              #print(j)\n",
    "              break\n",
    "\n",
    "  targets = np.array(targets)\n",
    "  print(targets.shape)\n",
    "  features = torch.tensor(features, dtype=torch.float32)\n",
    "  targets = torch.tensor(targets, dtype=torch.float32)\n",
    "\n",
    "\n",
    "  targets_test = np.array(targets_test)\n",
    "  print(targets_test.shape)\n",
    "  features_test = torch.tensor(features_test, dtype=torch.float32)\n",
    "  targets_test = torch.tensor(targets_test, dtype=torch.float32)\n",
    "\n",
    "\n",
    "\n",
    "  X_train, X_val, y_train, y_val = train_test_split(features, targets, test_size=0.2, random_state=42)\n",
    "  train_dataset = TensorDataset(X_train, y_train)\n",
    "  train_loader = DataLoader(train_dataset, batch_size=batch_size, shuffle=True)\n",
    "  val_dataset = TensorDataset(X_val, y_val)\n",
    "  val_loader = DataLoader(val_dataset, batch_size=batch_size, shuffle=False)\n",
    "\n",
    "  test_dataset = TensorDataset(features_test, targets_test)\n",
    "  test_loader = DataLoader(test_dataset, batch_size=batch_size, shuffle=False)\n",
    "\n",
    "  return train_loader,val_loader,test_loader,test_mean_ref,test_std_ref"
   ]
  },
  {
   "cell_type": "markdown",
   "metadata": {
    "id": "BH3nuEeyVnAi"
   },
   "source": [
    "# Models"
   ]
  },
  {
   "cell_type": "markdown",
   "metadata": {
    "id": "P7-KgnbqVtBq"
   },
   "source": [
    "## MLP"
   ]
  },
  {
   "cell_type": "code",
   "execution_count": 5,
   "metadata": {
    "id": "qIfBHQeOVsP2"
   },
   "outputs": [],
   "source": [
    "class MLP(nn.Module):\n",
    "    def __init__(self, input_size, output_size, sequence_length):\n",
    "        super(MLP, self).__init__()\n",
    "        self.flatten = nn.Flatten()\n",
    "        self.fc1 = nn.Linear(in_features=(input_size*sequence_length), out_features=256)\n",
    "        self.dropout1 = nn.Dropout(p=0.1)\n",
    "        self.fc2 = nn.Linear(in_features=256, out_features=128)\n",
    "        self.dropout2 = nn.Dropout(p=0.1)\n",
    "        self.fc3 = nn.Linear(in_features=128, out_features=64)\n",
    "        self.dropout3 = nn.Dropout(p=0.1)\n",
    "        self.fc4 = nn.Linear(in_features=64, out_features=32)\n",
    "        self.dropout4 = nn.Dropout(p=0.1)\n",
    "        self.fc5 = nn.Linear(in_features=32, out_features=16)\n",
    "        self.fc6 = nn.Linear(in_features=16, out_features=output_size)\n",
    "\n",
    "    def forward(self, x):\n",
    "        x = self.flatten(x)\n",
    "        x = F.relu(self.fc1(x))\n",
    "        x = self.dropout1(x)\n",
    "        x = F.relu(self.fc2(x))\n",
    "        x = self.dropout2(x)\n",
    "        x = F.relu(self.fc3(x))\n",
    "        x = self.dropout3(x)\n",
    "        x = F.relu(self.fc4(x))\n",
    "        x = self.dropout4(x)\n",
    "        x = F.relu(self.fc5(x))\n",
    "        x = self.fc6(x)\n",
    "        return x"
   ]
  },
  {
   "cell_type": "markdown",
   "metadata": {
    "id": "dm6t-0A8WSxQ"
   },
   "source": [
    "## LSTM"
   ]
  },
  {
   "cell_type": "code",
   "execution_count": 6,
   "metadata": {
    "id": "GO8yapwEWZuf"
   },
   "outputs": [],
   "source": [
    "class LSTM(nn.Module):\n",
    "    def __init__(self, input_size, hidden_size, output_size):\n",
    "        super(LSTM, self).__init__()\n",
    "        self.hidden_size = hidden_size\n",
    "        self.lstm = nn.LSTM(input_size, hidden_size, batch_first=True)\n",
    "        self.fc = nn.Linear(hidden_size, output_size)\n",
    "\n",
    "    def forward(self, x):\n",
    "        h_0 = torch.zeros(1, x.size(0), self.hidden_size).to(x.device)\n",
    "        c_0 = torch.zeros(1, x.size(0), self.hidden_size).to(x.device)\n",
    "        _, (h_n, _) = self.lstm(x, (h_0, c_0))\n",
    "        output = self.fc(h_n[-1])\n",
    "        return output"
   ]
  },
  {
   "cell_type": "markdown",
   "metadata": {
    "id": "yDYIbzxvWj0W"
   },
   "source": [
    "## LSTM-AT"
   ]
  },
  {
   "cell_type": "code",
   "execution_count": 7,
   "metadata": {
    "id": "45W9YjWfWlIJ"
   },
   "outputs": [],
   "source": [
    "# Define the model\n",
    "class LSTMAttentionRegressor(nn.Module):\n",
    "    def __init__(self, input_size, hidden_size, output_size):\n",
    "        super(LSTMAttentionRegressor, self).__init__()\n",
    "        self.hidden_size = hidden_size\n",
    "        self.lstm = nn.LSTM(input_size, hidden_size, batch_first=True)\n",
    "        self.fc = nn.Linear(hidden_size, output_size)\n",
    "        self.attention = nn.Linear(hidden_size, 1)\n",
    "\n",
    "    def forward(self, x):\n",
    "        h_0 = torch.zeros(1, x.size(0), self.hidden_size).to(x.device)\n",
    "        c_0 = torch.zeros(1, x.size(0), self.hidden_size).to(x.device)\n",
    "        output, _ = self.lstm(x, (h_0, c_0))\n",
    "        attention_weights = nn.functional.softmax(self.attention(output), dim=1)\n",
    "        context_vector = torch.sum(attention_weights * output, dim=1)\n",
    "        output = self.fc(context_vector)\n",
    "        return output"
   ]
  },
  {
   "cell_type": "markdown",
   "metadata": {
    "id": "AT9N_Ah8WuKU"
   },
   "source": [
    "## CNN-LSTM-AT"
   ]
  },
  {
   "cell_type": "code",
   "execution_count": 8,
   "metadata": {
    "id": "a8hqb6-3W8Wd"
   },
   "outputs": [],
   "source": [
    "#Model Implementation\n",
    "\n",
    "class CNN_LSTM_AM(nn.Module):\n",
    "    def __init__(self, input_dim, hidden_dim, output_dim, sequence_length, dropout_porb):\n",
    "        super(CNN_LSTM_AM, self).__init__()\n",
    "        self.conv1d_1 = nn.Conv1d(in_channels=input_dim, out_channels=hidden_dim, kernel_size=1, padding=0, bias = True)\n",
    "        self.conv1d_2 = nn.Conv1d(in_channels=hidden_dim, out_channels=hidden_dim, kernel_size=1, padding=0, bias = True)\n",
    "        self.conv1d_3 = nn.Conv1d(in_channels=hidden_dim, out_channels=hidden_dim, kernel_size=1, padding=0, bias = True)\n",
    "        self.pool = nn.MaxPool1d(kernel_size=1, padding=0)\n",
    "        self.lstm_1 = nn.LSTM(hidden_dim, hidden_dim, batch_first=True, bidirectional=True, bias = True)\n",
    "        self.lstm_2 = nn.LSTM(hidden_dim * 2, hidden_dim, batch_first=True, bidirectional=True, bias = True)\n",
    "        self.attention_linear = nn.Linear(hidden_dim * 2, 1, bias = True)\n",
    "        self.linear = nn.Linear(hidden_dim * 2, output_dim, bias = True)\n",
    "        self.sequence_length = sequence_length\n",
    "        self.dropout = nn.Dropout(p=dropout_prob)\n",
    "\n",
    "    def forward(self, x):\n",
    "        # Input shape: (batch_size, sequence_length, input_dim)\n",
    "        batch_size, sequence_length, input_dim = x.size()\n",
    "\n",
    "        # Reshape for Conv1d input\n",
    "        x = x.permute(0, 2, 1)  # Reshape for Conv1d input\n",
    "        x = self.pool(F.relu(self.conv1d_1(x)))\n",
    "        x = self.pool(F.relu(self.conv1d_2(x)))\n",
    "        x = self.pool(F.relu(self.conv1d_3(x)))\n",
    "\n",
    "        x = self.dropout(x)\n",
    "        # Reshape for LSTM input\n",
    "        x = x.permute(0, 2, 1)  # Reshape for LSTM input\n",
    "        x, _ = self.lstm_1(x)\n",
    "        x, _ = self.lstm_2(x)\n",
    "        x = self.dropout(x)\n",
    "        # Attention mechanism\n",
    "        attention_weights = F.softmax(self.attention_linear(x), dim=1)\n",
    "        attended_out = torch.sum(attention_weights * x, dim=1)\n",
    "\n",
    "        # Output layer\n",
    "        output = self.linear(attended_out)\n",
    "\n",
    "        return output"
   ]
  },
  {
   "cell_type": "code",
   "execution_count": 9,
   "metadata": {},
   "outputs": [],
   "source": [
    "class BiLSTM_AM(nn.Module):\n",
    "    def __init__(self, input_dim, hidden_dim, output_dim, sequence_length, dropout_prob):\n",
    "        super(BiLSTM_AM, self).__init__()\n",
    "        self.lstm_1 = nn.LSTM(input_dim, hidden_dim, batch_first=True, bidirectional=True, bias=True)\n",
    "        self.lstm_2 = nn.LSTM(hidden_dim * 2, hidden_dim, batch_first=True, bidirectional=True, bias=True)\n",
    "        self.attention_linear = nn.Linear(hidden_dim * 2, 1, bias=True)\n",
    "        self.linear = nn.Linear(hidden_dim * 2, output_dim, bias=True)\n",
    "        self.sequence_length = sequence_length\n",
    "        self.dropout = nn.Dropout(p=dropout_prob)\n",
    "\n",
    "    def forward(self, x):\n",
    "        # Input shape: (batch_size, sequence_length, input_dim)\n",
    "        batch_size, sequence_length, input_dim = x.size()\n",
    "\n",
    "        # LSTM layers\n",
    "        x, _ = self.lstm_1(x)\n",
    "        x, _ = self.lstm_2(x)\n",
    "        x = self.dropout(x)\n",
    "\n",
    "        # Attention mechanism\n",
    "        attention_weights = F.softmax(self.attention_linear(x), dim=1)\n",
    "        attended_out = torch.sum(attention_weights * x, dim=1)\n",
    "\n",
    "        # Output layer\n",
    "        output = self.linear(attended_out)\n",
    "\n",
    "        return output"
   ]
  },
  {
   "cell_type": "markdown",
   "metadata": {
    "id": "5W6HmvfCW_xY"
   },
   "source": [
    "# Model Run"
   ]
  },
  {
   "cell_type": "code",
   "execution_count": 10,
   "metadata": {
    "id": "LHouVk-FXPsf"
   },
   "outputs": [],
   "source": [
    "def model_run(model,train_loader,test_loader,val_loader,model_details,work_dir):\n",
    "  criterion = nn.MSELoss()\n",
    "  optimizer = optim.Adam(model.parameters(), lr=0.0001)\n",
    "  train_losses = []\n",
    "  val_losses = []\n",
    "  num_epochs = 50\n",
    "  all_predictions = []\n",
    "  all_true_values = []\n",
    "\n",
    "  # Training\n",
    "  #best_val_loss = float('inf')\n",
    "  patience = 10  # Number of epochs to wait for improvement\n",
    "  counter = 0\n",
    "  for epoch in range(num_epochs):\n",
    "      model.train()\n",
    "      running_train_loss = 0.0\n",
    "      progress_bar = tqdm(train_loader, desc=f'Epoch {epoch+1}/{num_epochs}', leave=False, mininterval=1)\n",
    "      for inputs, labels in progress_bar:\n",
    "          inputs, labels = inputs.to(device), labels.to(device)\n",
    "          optimizer.zero_grad()\n",
    "\n",
    "          # Forward pass\n",
    "          outputs = model(inputs.float())\n",
    "          loss = criterion(outputs.squeeze(), labels.float())\n",
    "\n",
    "          # Backward pass and optimization\n",
    "          loss.backward()\n",
    "          optimizer.step()\n",
    "\n",
    "          running_train_loss += loss.item()\n",
    "          progress_bar.set_postfix({'loss': running_train_loss / len(train_loader)})\n",
    "\n",
    "      # Record training loss for this epoch\n",
    "      train_losses.append(running_train_loss / len(train_loader))\n",
    "\n",
    "      # Validation loop\n",
    "      model.eval()\n",
    "      running_val_loss = 0.0\n",
    "      predictions = []\n",
    "      true_values = []\n",
    "      with torch.no_grad():\n",
    "      #    val_progress_bar = tqdm(val_dataloader, desc=f'Validation', leave=False, mininterval=1)\n",
    "          for inputs, labels in val_loader:\n",
    "              inputs, labels = inputs.to(device), labels.to(device)#labels are normalized\n",
    "\n",
    "              # Forward pass\n",
    "              normalized_outputs = model(inputs.float())\n",
    "              loss = criterion(normalized_outputs.squeeze(), labels.float()) # losses are computed between normalized outputs and nromalized prediction\n",
    "\n",
    "              running_val_loss += loss.item()\n",
    "\n",
    "              #outputs = normalized_outputs * vector_max[-1]\n",
    "              #labels = labels * vector_max[-1]\n",
    "              # Store predicted and true values\n",
    "              predictions.extend(normalized_outputs.cpu().numpy())\n",
    "              true_values.extend(labels.cpu().numpy())\n",
    "\n",
    "          # Record validation loss for this epoch\n",
    "          val_losses.append(running_val_loss / len(val_loader))\n",
    "\n",
    "      all_predictions.append(predictions)\n",
    "      all_true_values.append(true_values)\n",
    "      \"\"\"\n",
    "      avg_val_loss = running_val_loss / len(val_dataloader)\n",
    "      if avg_val_loss < best_val_loss: #check for the improvement of val_loss\n",
    "          best_val_loss = avg_val_loss\n",
    "          counter = 0\n",
    "      else:\n",
    "          counter = counter + 1\n",
    "      if counter >= patience:\n",
    "          print(f'Early stopping after {epoch+1} epochs without improvement.')\n",
    "          break\"\"\"\n",
    "      # Print average loss for this epoch\n",
    "      print(f\"Epoch {epoch+1}/{num_epochs}, Train Loss: {train_losses[-1]}, Val Loss: {val_losses[-1]}\")\n",
    "\n",
    "  # Plot training and validation losses\n",
    "  plt.figure()\n",
    "  plt.plot(range(1, num_epochs + 1), train_losses, label='Train Loss')\n",
    "  plt.plot(range(1, num_epochs + 1), val_losses, label='Validation Loss')\n",
    "  plt.xlabel('Epoch')\n",
    "  plt.ylabel('Loss')\n",
    "  plt.title(f'Training and Validation Losses for {model_details}')\n",
    "  plt.legend()\n",
    "  plt.savefig(f'{work_dir}/model_loss_{model_details}.png')\n",
    "  plt.show()\n",
    "  \n",
    "\n",
    "  #TestingModel\n",
    "  model.eval()\n",
    "  running_test_loss = 0.0\n",
    "  predictions_test_data = []\n",
    "  true_values_test_data = []\n",
    "  with torch.no_grad():\n",
    "  #    val_progress_bar = tqdm(val_dataloader, desc=f'Validation', leave=False, mininterval=1)\n",
    "      for inputs, labels in test_loader:\n",
    "          inputs, labels = inputs.to(device), labels.to(device)#labels are normalized\n",
    "\n",
    "          # Forward pass\n",
    "          normalized_outputs = model(inputs.float())\n",
    "          loss = criterion(normalized_outputs.squeeze(), labels.float()) # losses are computed between normalized outputs and nromalized prediction\n",
    "\n",
    "          running_val_loss += loss.item()\n",
    "\n",
    "          #outputs = normalized_outputs * vector_max[-1]\n",
    "          #labels = labels * vector_max[-1]\n",
    "          # Store predicted and true values\n",
    "          predictions_test_data.extend(normalized_outputs.cpu().numpy())\n",
    "          true_values_test_data.extend(labels.cpu().numpy())\n",
    "\n",
    "      print(f\"Test Loss for {model_details}:\", running_val_loss / len(test_loader))\n",
    "\n",
    "  return predictions_test_data,true_values_test_data,train_losses,val_losses"
   ]
  },
  {
   "cell_type": "markdown",
   "metadata": {
    "id": "H8JSK08yZh2q"
   },
   "source": [
    "# PostProcessing"
   ]
  },
  {
   "cell_type": "code",
   "execution_count": 11,
   "metadata": {
    "id": "vUEBqW0GZsnQ"
   },
   "outputs": [],
   "source": [
    "def post_processing(test_mean_ref,test_std_ref,predictions_test_data,true_values_test_data,sequence_length,model_details,work_dir, companies,train_losses,val_losses):\n",
    "  test_mean_ref_target = []\n",
    "  test_std_ref_target = []\n",
    "\n",
    "  for i in range(len(test_mean_ref)):\n",
    "    test_mean_ref_target.append(test_mean_ref[i][-1])\n",
    "    test_std_ref_target.append(test_std_ref[i][-1])\n",
    "\n",
    "  test_by_comp_pred=[]\n",
    "  test_by_comp_act=[]\n",
    "  test_by_comp_pred = [x[0] for x in predictions_test_data]\n",
    "\n",
    "  test_by_comp_pred = [test_by_comp_pred[i * (10-sequence_length) : (i + 1) * (10-sequence_length)] for i in range(stockno)]\n",
    "  test_by_comp_act = [true_values_test_data[i * (10-sequence_length) : (i + 1) * (10-sequence_length)] for i in range(stockno)]\n",
    "\n",
    "  for i in range(len(test_by_comp_pred)):\n",
    "    test_by_comp_pred[i] = [x * test_std_ref_target[i] + test_mean_ref_target[i] for x in test_by_comp_pred[i]]\n",
    "    test_by_comp_act[i] = [x * test_std_ref_target[i] + test_mean_ref_target[i] for x in test_by_comp_act[i]]\n",
    "\n",
    "\n",
    "  pct_value_error = {}\n",
    "  maerr = {}\n",
    "  for i in range(len(test_by_comp_act)):\n",
    "    pred_tmp = test_by_comp_pred[i]\n",
    "    act_tmp = test_by_comp_act[i]\n",
    "    from sklearn.metrics import mean_absolute_percentage_error\n",
    "    pct_value_error[companies[i]] = mean_absolute_percentage_error(act_tmp,pred_tmp)\n",
    "    maerr[companies[i]] = mean_absolute_error(act_tmp,pred_tmp)\n",
    "\n",
    "\n",
    "  with open(f'{work_dir}/mae_{model_details}.json', 'w') as convert_file:\n",
    "     convert_file.write(json.dumps(maerr))\n",
    "\n",
    "  with open(f'{work_dir}/pct_{model_details}.json', 'w') as convert_file:\n",
    "     convert_file.write(json.dumps(pct_value_error))\n",
    "\n",
    "  train_losses = {model_details: train_losses}\n",
    "  with open(f'{work_dir}/train_loss_{model_details}.json', 'w') as convert_file:\n",
    "     convert_file.write(json.dumps(train_losses))\n",
    "      \n",
    "  val_losses = {model_details: val_losses}\n",
    "  with open(f'{work_dir}/val_loss_{model_details}.json', 'w') as convert_file:\n",
    "     convert_file.write(json.dumps(val_losses))\n",
    "      \n",
    "  predictions={}\n",
    "  actual={}\n",
    "\n",
    "  for i in range(len(test_by_comp_pred)):\n",
    "    predictions[companies[i]]=test_by_comp_pred[i]\n",
    "    actual[companies[i]]=test_by_comp_act[i]\n",
    "\n",
    "  with open(f'{work_dir}/pred_{model_details}.json', 'w') as convert_file:\n",
    "     convert_file.write(json.dumps(predictions))\n",
    "\n",
    "  with open(f'{work_dir}/act_{model_details}.json', 'w') as convert_file:\n",
    "      convert_file.write(json.dumps(actual))"
   ]
  },
  {
   "cell_type": "markdown",
   "metadata": {
    "id": "xNh9jjJcbAPS"
   },
   "source": [
    "# Experiment Setup"
   ]
  },
  {
   "cell_type": "code",
   "execution_count": null,
   "metadata": {
    "id": "_nL6Q0GWbFII"
   },
   "outputs": [
    {
     "name": "stdout",
     "output_type": "stream",
     "text": [
      "cuda\n",
      "Model: MLP\n",
      "(109428, 4, 108) (9948, 4, 108)\n",
      "(109428,)\n",
      "(9948,)\n"
     ]
    },
    {
     "name": "stderr",
     "output_type": "stream",
     "text": [
      "                                                                            \r"
     ]
    },
    {
     "name": "stdout",
     "output_type": "stream",
     "text": [
      "Epoch 1/50, Train Loss: 0.272466633434826, Val Loss: 0.20414804005527606\n"
     ]
    },
    {
     "name": "stderr",
     "output_type": "stream",
     "text": [
      "                                                                             \r"
     ]
    },
    {
     "name": "stdout",
     "output_type": "stream",
     "text": [
      "Epoch 2/50, Train Loss: 0.20043014431173362, Val Loss: 0.19667232330446238\n"
     ]
    },
    {
     "name": "stderr",
     "output_type": "stream",
     "text": [
      "                                                                             \r"
     ]
    },
    {
     "name": "stdout",
     "output_type": "stream",
     "text": [
      "Epoch 3/50, Train Loss: 0.18822944976138362, Val Loss: 0.1915963786105587\n"
     ]
    },
    {
     "name": "stderr",
     "output_type": "stream",
     "text": [
      "                                                                             \r"
     ]
    },
    {
     "name": "stdout",
     "output_type": "stream",
     "text": [
      "Epoch 4/50, Train Loss: 0.18080710429381228, Val Loss: 0.19129812967491477\n"
     ]
    },
    {
     "name": "stderr",
     "output_type": "stream",
     "text": [
      "                                                                             \r"
     ]
    },
    {
     "name": "stdout",
     "output_type": "stream",
     "text": [
      "Epoch 5/50, Train Loss: 0.1741699259010155, Val Loss: 0.18879146796978635\n"
     ]
    },
    {
     "name": "stderr",
     "output_type": "stream",
     "text": [
      "                                                                             \r"
     ]
    },
    {
     "name": "stdout",
     "output_type": "stream",
     "text": [
      "Epoch 6/50, Train Loss: 0.1678062318794978, Val Loss: 0.1992068282970691\n"
     ]
    },
    {
     "name": "stderr",
     "output_type": "stream",
     "text": [
      "                                                                             \r"
     ]
    },
    {
     "name": "stdout",
     "output_type": "stream",
     "text": [
      "Epoch 7/50, Train Loss: 0.16153303196846264, Val Loss: 0.18936237416838267\n"
     ]
    },
    {
     "name": "stderr",
     "output_type": "stream",
     "text": [
      "                                                                             \r"
     ]
    },
    {
     "name": "stdout",
     "output_type": "stream",
     "text": [
      "Epoch 8/50, Train Loss: 0.15609753011980615, Val Loss: 0.18946339919754904\n"
     ]
    },
    {
     "name": "stderr",
     "output_type": "stream",
     "text": [
      "                                                                             \r"
     ]
    },
    {
     "name": "stdout",
     "output_type": "stream",
     "text": [
      "Epoch 9/50, Train Loss: 0.15181620361901466, Val Loss: 0.19332933761859866\n"
     ]
    },
    {
     "name": "stderr",
     "output_type": "stream",
     "text": [
      "                                                                              \r"
     ]
    },
    {
     "name": "stdout",
     "output_type": "stream",
     "text": [
      "Epoch 10/50, Train Loss: 0.14629045856328332, Val Loss: 0.19130946437670895\n"
     ]
    },
    {
     "name": "stderr",
     "output_type": "stream",
     "text": [
      "                                                                              \r"
     ]
    },
    {
     "name": "stdout",
     "output_type": "stream",
     "text": [
      "Epoch 11/50, Train Loss: 0.14225023871671721, Val Loss: 0.1915924844404334\n"
     ]
    },
    {
     "name": "stderr",
     "output_type": "stream",
     "text": [
      "                                                                              \r"
     ]
    },
    {
     "name": "stdout",
     "output_type": "stream",
     "text": [
      "Epoch 12/50, Train Loss: 0.1372927618306077, Val Loss: 0.1946274521314118\n"
     ]
    },
    {
     "name": "stderr",
     "output_type": "stream",
     "text": [
      "                                                                              \r"
     ]
    },
    {
     "name": "stdout",
     "output_type": "stream",
     "text": [
      "Epoch 13/50, Train Loss: 0.13302574987267424, Val Loss: 0.19046475546068797\n"
     ]
    },
    {
     "name": "stderr",
     "output_type": "stream",
     "text": [
      "                                                                              \r"
     ]
    },
    {
     "name": "stdout",
     "output_type": "stream",
     "text": [
      "Epoch 25/50, Train Loss: 0.0981410960525887, Val Loss: 0.19673345557766964\n"
     ]
    },
    {
     "name": "stderr",
     "output_type": "stream",
     "text": [
      "Epoch 26/50:  12%|█▏        | 434/3502 [00:01<00:07, 433.57it/s, loss=0.0164]IOPub message rate exceeded.\n",
      "The Jupyter server will temporarily stop sending output\n",
      "to the client in order to avoid crashing it.\n",
      "To change this limit, set the config variable\n",
      "`--ServerApp.iopub_msg_rate_limit`.\n",
      "\n",
      "Current values:\n",
      "ServerApp.iopub_msg_rate_limit=1000.0 (msgs/sec)\n",
      "ServerApp.rate_limit_window=3.0 (secs)\n",
      "\n",
      "                                                                              \r"
     ]
    },
    {
     "name": "stdout",
     "output_type": "stream",
     "text": [
      "Epoch 26/50, Train Loss: 0.09717468838704732, Val Loss: 0.19575122637954884\n"
     ]
    },
    {
     "name": "stderr",
     "output_type": "stream",
     "text": [
      "                                                                              \r"
     ]
    },
    {
     "name": "stdout",
     "output_type": "stream",
     "text": [
      "Epoch 27/50, Train Loss: 0.09505652659000889, Val Loss: 0.1959933648226128\n"
     ]
    },
    {
     "name": "stderr",
     "output_type": "stream",
     "text": [
      "                                                                              \r"
     ]
    },
    {
     "name": "stdout",
     "output_type": "stream",
     "text": [
      "Epoch 28/50, Train Loss: 0.09374628885133753, Val Loss: 0.19556188129194796\n"
     ]
    },
    {
     "name": "stderr",
     "output_type": "stream",
     "text": [
      "                                                                              \r"
     ]
    },
    {
     "name": "stdout",
     "output_type": "stream",
     "text": [
      "Epoch 40/50, Train Loss: 0.07974330663227869, Val Loss: 0.19972187738661487\n"
     ]
    },
    {
     "name": "stderr",
     "output_type": "stream",
     "text": [
      "Epoch 41/50:  51%|█████     | 1781/3502 [00:04<00:03, 444.21it/s, loss=0.0431]IOPub message rate exceeded.\n",
      "The Jupyter server will temporarily stop sending output\n",
      "to the client in order to avoid crashing it.\n",
      "To change this limit, set the config variable\n",
      "`--ServerApp.iopub_msg_rate_limit`.\n",
      "\n",
      "Current values:\n",
      "ServerApp.iopub_msg_rate_limit=1000.0 (msgs/sec)\n",
      "ServerApp.rate_limit_window=3.0 (secs)\n",
      "\n"
     ]
    },
    {
     "name": "stdout",
     "output_type": "stream",
     "text": [
      "Epoch 49/50, Train Loss: 0.07265976093590328, Val Loss: 0.1972590873451674\n"
     ]
    },
    {
     "name": "stderr",
     "output_type": "stream",
     "text": [
      "                                                                              \r"
     ]
    },
    {
     "name": "stdout",
     "output_type": "stream",
     "text": [
      "Epoch 50/50, Train Loss: 0.07265530110388432, Val Loss: 0.2003072848815692\n"
     ]
    },
    {
     "data": {
      "image/png": "[encoded data removed]",
      "text/plain": [
       "<Figure size 640x480 with 1 Axes>"
      ]
     },
     "metadata": {},
     "output_type": "display_data"
    },
    {
     "name": "stdout",
     "output_type": "stream",
     "text": [
      "Test Loss for MLP: 1.2793526739050545\n",
      "Model: LSTM\n",
      "(109428, 4, 108) (9948, 4, 108)\n",
      "(109428,)\n",
      "(9948,)\n"
     ]
    },
    {
     "name": "stderr",
     "output_type": "stream",
     "text": [
      "                                                                            \r"
     ]
    },
    {
     "name": "stdout",
     "output_type": "stream",
     "text": [
      "Epoch 1/50, Train Loss: 0.23482247091710637, Val Loss: 0.19763670955065926\n"
     ]
    },
    {
     "name": "stderr",
     "output_type": "stream",
     "text": [
      "                                                                             \r"
     ]
    },
    {
     "name": "stdout",
     "output_type": "stream",
     "text": [
      "Epoch 2/50, Train Loss: 0.18208671405673163, Val Loss: 0.1873474034765676\n"
     ]
    },
    {
     "name": "stderr",
     "output_type": "stream",
     "text": [
      "                                                                             \r"
     ]
    },
    {
     "name": "stdout",
     "output_type": "stream",
     "text": [
      "Epoch 3/50, Train Loss: 0.17177214523801831, Val Loss: 0.1837180493629142\n"
     ]
    },
    {
     "name": "stderr",
     "output_type": "stream",
     "text": [
      "                                                                             \r"
     ]
    },
    {
     "name": "stdout",
     "output_type": "stream",
     "text": [
      "Epoch 4/50, Train Loss: 0.16438068523215846, Val Loss: 0.18115605304621535\n"
     ]
    },
    {
     "name": "stderr",
     "output_type": "stream",
     "text": [
      "                                                                             \r"
     ]
    },
    {
     "name": "stdout",
     "output_type": "stream",
     "text": [
      "Epoch 5/50, Train Loss: 0.15753415060510964, Val Loss: 0.1793975138028905\n"
     ]
    },
    {
     "name": "stderr",
     "output_type": "stream",
     "text": [
      "                                                                             \r"
     ]
    },
    {
     "name": "stdout",
     "output_type": "stream",
     "text": [
      "Epoch 6/50, Train Loss: 0.15096955222563274, Val Loss: 0.1780468629413714\n"
     ]
    },
    {
     "name": "stderr",
     "output_type": "stream",
     "text": [
      "                                                                             \r"
     ]
    },
    {
     "name": "stdout",
     "output_type": "stream",
     "text": [
      "Epoch 7/50, Train Loss: 0.14401955835559516, Val Loss: 0.1757829866635711\n"
     ]
    },
    {
     "name": "stderr",
     "output_type": "stream",
     "text": [
      "                                                                             \r"
     ]
    },
    {
     "name": "stdout",
     "output_type": "stream",
     "text": [
      "Epoch 8/50, Train Loss: 0.13723527014400194, Val Loss: 0.17599396280025784\n"
     ]
    },
    {
     "name": "stderr",
     "output_type": "stream",
     "text": [
      "                                                                              \r"
     ]
    },
    {
     "name": "stdout",
     "output_type": "stream",
     "text": [
      "Epoch 32/50, Train Loss: 0.03094635059488464, Val Loss: 0.17462179012656143\n"
     ]
    },
    {
     "name": "stderr",
     "output_type": "stream",
     "text": [
      "Epoch 33/50:  61%|██████    | 2124/3502 [00:05<00:03, 425.85it/s, loss=0.0171] IOPub message rate exceeded.\n",
      "The Jupyter server will temporarily stop sending output\n",
      "to the client in order to avoid crashing it.\n",
      "To change this limit, set the config variable\n",
      "`--ServerApp.iopub_msg_rate_limit`.\n",
      "\n",
      "Current values:\n",
      "ServerApp.iopub_msg_rate_limit=1000.0 (msgs/sec)\n",
      "ServerApp.rate_limit_window=3.0 (secs)\n",
      "\n",
      "                                                                               \r"
     ]
    },
    {
     "name": "stdout",
     "output_type": "stream",
     "text": [
      "Epoch 34/50, Train Loss: 0.02734946939314496, Val Loss: 0.17469596500470214\n"
     ]
    },
    {
     "name": "stderr",
     "output_type": "stream",
     "text": [
      "                                                                               \r"
     ]
    },
    {
     "name": "stdout",
     "output_type": "stream",
     "text": [
      "Epoch 35/50, Train Loss: 0.025741245035935237, Val Loss: 0.17614597469976503\n"
     ]
    },
    {
     "name": "stderr",
     "output_type": "stream",
     "text": [
      "                                                                               \r"
     ]
    },
    {
     "name": "stdout",
     "output_type": "stream",
     "text": [
      "Epoch 36/50, Train Loss: 0.024214063235731432, Val Loss: 0.17783186527726041\n"
     ]
    },
    {
     "name": "stderr",
     "output_type": "stream",
     "text": [
      "                                                                               \r"
     ]
    },
    {
     "name": "stdout",
     "output_type": "stream",
     "text": [
      "Epoch 47/50, Train Loss: 0.012713943591151494, Val Loss: 0.18216330947175827\n"
     ]
    },
    {
     "name": "stderr",
     "output_type": "stream",
     "text": [
      "                                                                               \r"
     ]
    },
    {
     "name": "stdout",
     "output_type": "stream",
     "text": [
      "Epoch 48/50, Train Loss: 0.012064744458482763, Val Loss: 0.18204681606767656\n"
     ]
    },
    {
     "name": "stderr",
     "output_type": "stream",
     "text": [
      "                                                                               \r"
     ]
    },
    {
     "name": "stdout",
     "output_type": "stream",
     "text": [
      "Epoch 49/50, Train Loss: 0.011428101251017769, Val Loss: 0.18148518171263475\n"
     ]
    },
    {
     "name": "stderr",
     "output_type": "stream",
     "text": [
      "Epoch 10/50:  86%|████████▋ | 3026/3502 [00:08<00:01, 381.12it/s, loss=0.118] ]IOPub message rate exceeded.\n",
      "The Jupyter server will temporarily stop sending output\n",
      "to the client in order to avoid crashing it.\n",
      "To change this limit, set the config variable\n",
      "`--ServerApp.iopub_msg_rate_limit`.\n",
      "\n",
      "Current values:\n",
      "ServerApp.iopub_msg_rate_limit=1000.0 (msgs/sec)\n",
      "ServerApp.rate_limit_window=3.0 (secs)\n",
      "\n",
      "                                                                              \r"
     ]
    },
    {
     "name": "stdout",
     "output_type": "stream",
     "text": [
      "Epoch 11/50, Train Loss: 0.11896449151841965, Val Loss: 0.17357780633825962\n"
     ]
    },
    {
     "name": "stderr",
     "output_type": "stream",
     "text": [
      "                                                                              \r"
     ]
    },
    {
     "name": "stdout",
     "output_type": "stream",
     "text": [
      "Epoch 12/50, Train Loss: 0.1126201483873126, Val Loss: 0.17395951130244558\n"
     ]
    },
    {
     "name": "stderr",
     "output_type": "stream",
     "text": [
      "                                                                              \r"
     ]
    },
    {
     "name": "stdout",
     "output_type": "stream",
     "text": [
      "Epoch 13/50, Train Loss: 0.10596878769015547, Val Loss: 0.17297323873972512\n"
     ]
    },
    {
     "name": "stderr",
     "output_type": "stream",
     "text": [
      "                                                                              \r"
     ]
    },
    {
     "name": "stdout",
     "output_type": "stream",
     "text": [
      "Epoch 23/50, Train Loss: 0.05719039140791467, Val Loss: 0.17098256411056403\n"
     ]
    },
    {
     "name": "stderr",
     "output_type": "stream",
     "text": [
      "Epoch 24/50:  32%|███▏      | 1129/3502 [00:03<00:06, 370.25it/s, loss=0.0198]IOPub message rate exceeded.\n",
      "The Jupyter server will temporarily stop sending output\n",
      "to the client in order to avoid crashing it.\n",
      "To change this limit, set the config variable\n",
      "`--ServerApp.iopub_msg_rate_limit`.\n",
      "\n",
      "Current values:\n",
      "ServerApp.iopub_msg_rate_limit=1000.0 (msgs/sec)\n",
      "ServerApp.rate_limit_window=3.0 (secs)\n",
      "\n",
      "                                                                              \r"
     ]
    },
    {
     "name": "stdout",
     "output_type": "stream",
     "text": [
      "Epoch 25/50, Train Loss: 0.05044813044656436, Val Loss: 0.17198196830457613\n"
     ]
    },
    {
     "name": "stderr",
     "output_type": "stream",
     "text": [
      "                                                                              \r"
     ]
    },
    {
     "name": "stdout",
     "output_type": "stream",
     "text": [
      "Epoch 26/50, Train Loss: 0.04747256443706548, Val Loss: 0.17306113445314847\n"
     ]
    },
    {
     "name": "stderr",
     "output_type": "stream",
     "text": [
      "Epoch 37/50:  85%|████████▌ | 2979/3502 [00:08<00:01, 369.79it/s, loss=0.0218] IOPub message rate exceeded.\n",
      "The Jupyter server will temporarily stop sending output\n",
      "to the client in order to avoid crashing it.\n",
      "To change this limit, set the config variable\n",
      "`--ServerApp.iopub_msg_rate_limit`.\n",
      "\n",
      "Current values:\n",
      "ServerApp.iopub_msg_rate_limit=1000.0 (msgs/sec)\n",
      "ServerApp.rate_limit_window=3.0 (secs)\n",
      "\n",
      "                                                                               \r"
     ]
    },
    {
     "name": "stdout",
     "output_type": "stream",
     "text": [
      "Epoch 40/50, Train Loss: 0.020634523443896314, Val Loss: 0.17915883125762824\n"
     ]
    },
    {
     "name": "stderr",
     "output_type": "stream",
     "text": [
      "                                                                               \r"
     ]
    },
    {
     "name": "stdout",
     "output_type": "stream",
     "text": [
      "Epoch 41/50, Train Loss: 0.01959345391329201, Val Loss: 0.17912885517553856\n"
     ]
    },
    {
     "name": "stderr",
     "output_type": "stream",
     "text": [
      "                                                                            6] \r"
     ]
    },
    {
     "name": "stdout",
     "output_type": "stream",
     "text": [
      "Epoch 1/50, Train Loss: 0.2303352996585694, Val Loss: 0.19768443952429376\n"
     ]
    },
    {
     "name": "stderr",
     "output_type": "stream",
     "text": [
      "Epoch 2/50:  35%|███▍      | 1214/3502 [00:05<00:09, 240.68it/s, loss=0.0755]IOPub message rate exceeded.\n",
      "The Jupyter server will temporarily stop sending output\n",
      "to the client in order to avoid crashing it.\n",
      "To change this limit, set the config variable\n",
      "`--ServerApp.iopub_msg_rate_limit`.\n",
      "\n",
      "Current values:\n",
      "ServerApp.iopub_msg_rate_limit=1000.0 (msgs/sec)\n",
      "ServerApp.rate_limit_window=3.0 (secs)\n",
      "\n",
      "                                                                            \r"
     ]
    },
    {
     "name": "stdout",
     "output_type": "stream",
     "text": [
      "Epoch 4/50, Train Loss: 0.16899064561880822, Val Loss: 0.1832138576149328\n"
     ]
    },
    {
     "name": "stderr",
     "output_type": "stream",
     "text": [
      "                                                                             \r"
     ]
    },
    {
     "name": "stdout",
     "output_type": "stream",
     "text": [
      "Epoch 5/50, Train Loss: 0.16193258778741534, Val Loss: 0.17884322208645817\n"
     ]
    },
    {
     "name": "stderr",
     "output_type": "stream",
     "text": [
      "                                                                              \r"
     ]
    },
    {
     "name": "stdout",
     "output_type": "stream",
     "text": [
      "Epoch 12/50, Train Loss: 0.118444096575731, Val Loss: 0.16417047447741848\n"
     ]
    },
    {
     "name": "stderr",
     "output_type": "stream",
     "text": [
      "Epoch 13/50:  27%|██▋       | 955/3502 [00:04<00:10, 238.92it/s, loss=0.0356] IOPub message rate exceeded.\n",
      "The Jupyter server will temporarily stop sending output\n",
      "to the client in order to avoid crashing it.\n",
      "To change this limit, set the config variable\n",
      "`--ServerApp.iopub_msg_rate_limit`.\n",
      "\n",
      "Current values:\n",
      "ServerApp.iopub_msg_rate_limit=1000.0 (msgs/sec)\n",
      "ServerApp.rate_limit_window=3.0 (secs)\n",
      "\n",
      "                                                                              \r"
     ]
    },
    {
     "name": "stdout",
     "output_type": "stream",
     "text": [
      "Epoch 13/50, Train Loss: 0.11336418945418893, Val Loss: 0.1701049827545303\n"
     ]
    },
    {
     "name": "stderr",
     "output_type": "stream",
     "text": [
      "                                                                              \r"
     ]
    },
    {
     "name": "stdout",
     "output_type": "stream",
     "text": [
      "Epoch 14/50, Train Loss: 0.10857111385367653, Val Loss: 0.16115380743025168\n"
     ]
    },
    {
     "name": "stderr",
     "output_type": "stream",
     "text": [
      "Epoch 21/50:  90%|████████▉ | 3139/3502 [00:14<00:01, 235.12it/s, loss=0.082] IOPub message rate exceeded.\n",
      "The Jupyter server will temporarily stop sending output\n",
      "to the client in order to avoid crashing it.\n",
      "To change this limit, set the config variable\n",
      "`--ServerApp.iopub_msg_rate_limit`.\n",
      "\n",
      "Current values:\n",
      "ServerApp.iopub_msg_rate_limit=1000.0 (msgs/sec)\n",
      "ServerApp.rate_limit_window=3.0 (secs)\n",
      "\n",
      "                                                                              \r"
     ]
    },
    {
     "name": "stdout",
     "output_type": "stream",
     "text": [
      "Epoch 22/50, Train Loss: 0.08415942479495166, Val Loss: 0.15214114301927287\n"
     ]
    },
    {
     "name": "stderr",
     "output_type": "stream",
     "text": [
      "                                                                              \r"
     ]
    },
    {
     "name": "stdout",
     "output_type": "stream",
     "text": [
      "Epoch 23/50, Train Loss: 0.08148666782712065, Val Loss: 0.14994822870982497\n"
     ]
    },
    {
     "name": "stderr",
     "output_type": "stream",
     "text": [
      "                                                                              \r"
     ]
    },
    {
     "name": "stdout",
     "output_type": "stream",
     "text": [
      "Epoch 30/50, Train Loss: 0.06973982268124224, Val Loss: 0.1461922797399943\n"
     ]
    },
    {
     "name": "stderr",
     "output_type": "stream",
     "text": [
      "Epoch 31/50:   0%|          | 0/3502 [00:00<?, ?it/s, loss=0.0016]  IOPub message rate exceeded.\n",
      "The Jupyter server will temporarily stop sending output\n",
      "to the client in order to avoid crashing it.\n",
      "To change this limit, set the config variable\n",
      "`--ServerApp.iopub_msg_rate_limit`.\n",
      "\n",
      "Current values:\n",
      "ServerApp.iopub_msg_rate_limit=1000.0 (msgs/sec)\n",
      "ServerApp.rate_limit_window=3.0 (secs)\n",
      "\n",
      "                                                                              \r"
     ]
    },
    {
     "name": "stdout",
     "output_type": "stream",
     "text": [
      "Epoch 31/50, Train Loss: 0.06828598223407478, Val Loss: 0.14546911919821207\n"
     ]
    },
    {
     "name": "stderr",
     "output_type": "stream",
     "text": [
      "                                                                              \r"
     ]
    },
    {
     "name": "stdout",
     "output_type": "stream",
     "text": [
      "Epoch 32/50, Train Loss: 0.06642800559162634, Val Loss: 0.14528672079253754\n"
     ]
    },
    {
     "name": "stderr",
     "output_type": "stream",
     "text": [
      "                                                                              \r"
     ]
    },
    {
     "name": "stdout",
     "output_type": "stream",
     "text": [
      "Epoch 39/50, Train Loss: 0.0586512111356617, Val Loss: 0.14201379644994935\n"
     ]
    },
    {
     "name": "stderr",
     "output_type": "stream",
     "text": [
      "Epoch 40/50:  35%|███▍      | 1215/3502 [00:05<00:09, 235.87it/s, loss=0.0214]IOPub message rate exceeded.\n",
      "The Jupyter server will temporarily stop sending output\n",
      "to the client in order to avoid crashing it.\n",
      "To change this limit, set the config variable\n",
      "`--ServerApp.iopub_msg_rate_limit`.\n",
      "\n",
      "Current values:\n",
      "ServerApp.iopub_msg_rate_limit=1000.0 (msgs/sec)\n",
      "ServerApp.rate_limit_window=3.0 (secs)\n",
      "\n",
      "                                                                              \r"
     ]
    },
    {
     "name": "stdout",
     "output_type": "stream",
     "text": [
      "Epoch 41/50, Train Loss: 0.05652585987912237, Val Loss: 0.13678905992772958\n"
     ]
    },
    {
     "name": "stderr",
     "output_type": "stream",
     "text": [
      "                                                                              \r"
     ]
    },
    {
     "name": "stdout",
     "output_type": "stream",
     "text": [
      "Epoch 42/50, Train Loss: 0.05585277343045458, Val Loss: 0.13703621259877738\n"
     ]
    },
    {
     "name": "stderr",
     "output_type": "stream",
     "text": [
      "                                                                              \r"
     ]
    },
    {
     "name": "stdout",
     "output_type": "stream",
     "text": [
      "Epoch 47/50, Train Loss: 0.05154625388359101, Val Loss: 0.13591603410842756\n"
     ]
    },
    {
     "name": "stderr",
     "output_type": "stream",
     "text": [
      "Epoch 48/50:  14%|█▎        | 475/3502 [00:02<00:12, 236.29it/s, loss=0.00744]IOPub message rate exceeded.\n",
      "The Jupyter server will temporarily stop sending output\n",
      "to the client in order to avoid crashing it.\n",
      "To change this limit, set the config variable\n",
      "`--ServerApp.iopub_msg_rate_limit`.\n",
      "\n",
      "Current values:\n",
      "ServerApp.iopub_msg_rate_limit=1000.0 (msgs/sec)\n",
      "ServerApp.rate_limit_window=3.0 (secs)\n",
      "\n",
      "                                                                            \r"
     ]
    },
    {
     "name": "stdout",
     "output_type": "stream",
     "text": [
      "Epoch 1/50, Train Loss: 0.2164545049045186, Val Loss: 0.19499834440648556\n"
     ]
    },
    {
     "name": "stderr",
     "output_type": "stream",
     "text": [
      "                                                                             \r"
     ]
    },
    {
     "name": "stdout",
     "output_type": "stream",
     "text": [
      "Epoch 2/50, Train Loss: 0.17997264617395564, Val Loss: 0.1854367780214235\n"
     ]
    },
    {
     "name": "stderr",
     "output_type": "stream",
     "text": [
      "                                                                              \r"
     ]
    },
    {
     "name": "stdout",
     "output_type": "stream",
     "text": [
      "Epoch 10/50, Train Loss: 0.11044002543743392, Val Loss: 0.1705197889238732\n"
     ]
    },
    {
     "name": "stderr",
     "output_type": "stream",
     "text": [
      "Epoch 11/50:  16%|█▌        | 548/3502 [00:02<00:10, 271.46it/s, loss=0.0223] IOPub message rate exceeded.\n",
      "The Jupyter server will temporarily stop sending output\n",
      "to the client in order to avoid crashing it.\n",
      "To change this limit, set the config variable\n",
      "`--ServerApp.iopub_msg_rate_limit`.\n",
      "\n",
      "Current values:\n",
      "ServerApp.iopub_msg_rate_limit=1000.0 (msgs/sec)\n",
      "ServerApp.rate_limit_window=3.0 (secs)\n",
      "\n",
      "                                                                              \r"
     ]
    },
    {
     "name": "stdout",
     "output_type": "stream",
     "text": [
      "Epoch 14/50, Train Loss: 0.08301597805124633, Val Loss: 0.166453594652315\n"
     ]
    },
    {
     "name": "stderr",
     "output_type": "stream",
     "text": [
      "                                                                              \r"
     ]
    },
    {
     "name": "stdout",
     "output_type": "stream",
     "text": [
      "Epoch 15/50, Train Loss: 0.07692231731632908, Val Loss: 0.16574945689931717\n"
     ]
    },
    {
     "name": "stderr",
     "output_type": "stream",
     "text": [
      "                                                                              \r"
     ]
    },
    {
     "name": "stdout",
     "output_type": "stream",
     "text": [
      "Epoch 23/50, Train Loss: 0.04167289723020402, Val Loss: 0.15546229245251716\n"
     ]
    },
    {
     "name": "stderr",
     "output_type": "stream",
     "text": [
      "Epoch 24/50:  61%|██████    | 2119/3502 [00:08<00:05, 260.80it/s, loss=0.0238]IOPub message rate exceeded.\n",
      "The Jupyter server will temporarily stop sending output\n",
      "to the client in order to avoid crashing it.\n",
      "To change this limit, set the config variable\n",
      "`--ServerApp.iopub_msg_rate_limit`.\n",
      "\n",
      "Current values:\n",
      "ServerApp.iopub_msg_rate_limit=1000.0 (msgs/sec)\n",
      "ServerApp.rate_limit_window=3.0 (secs)\n",
      "\n",
      "                                                                              \r"
     ]
    },
    {
     "name": "stdout",
     "output_type": "stream",
     "text": [
      "Epoch 28/50, Train Loss: 0.028208593963174683, Val Loss: 0.15180221541899525\n"
     ]
    },
    {
     "name": "stderr",
     "output_type": "stream",
     "text": [
      "                                                                               \r"
     ]
    },
    {
     "name": "stdout",
     "output_type": "stream",
     "text": [
      "Epoch 29/50, Train Loss: 0.026181866452209587, Val Loss: 0.15323485956914282\n"
     ]
    },
    {
     "name": "stderr",
     "output_type": "stream",
     "text": [
      "                                                                               \r"
     ]
    },
    {
     "name": "stdout",
     "output_type": "stream",
     "text": [
      "Epoch 37/50, Train Loss: 0.014766525184370785, Val Loss: 0.14608051002952674\n"
     ]
    },
    {
     "name": "stderr",
     "output_type": "stream",
     "text": [
      "Epoch 38/50:  24%|██▍       | 832/3502 [00:03<00:09, 275.97it/s, loss=0.00337] IOPub message rate exceeded.\n",
      "The Jupyter server will temporarily stop sending output\n",
      "to the client in order to avoid crashing it.\n",
      "To change this limit, set the config variable\n",
      "`--ServerApp.iopub_msg_rate_limit`.\n",
      "\n",
      "Current values:\n",
      "ServerApp.iopub_msg_rate_limit=1000.0 (msgs/sec)\n",
      "ServerApp.rate_limit_window=3.0 (secs)\n",
      "\n",
      "                                                                               \r"
     ]
    },
    {
     "name": "stdout",
     "output_type": "stream",
     "text": [
      "Epoch 42/50, Train Loss: 0.010861445387130202, Val Loss: 0.14395465090930393\n"
     ]
    },
    {
     "name": "stderr",
     "output_type": "stream",
     "text": [
      "                                                                               \r"
     ]
    },
    {
     "name": "stdout",
     "output_type": "stream",
     "text": [
      "Epoch 43/50, Train Loss: 0.010378542278472043, Val Loss: 0.1450538195108306\n"
     ]
    },
    {
     "name": "stderr",
     "output_type": "stream",
     "text": [
      "Epoch 44/50:  78%|███████▊  | 2721/3502 [00:10<00:02, 271.69it/s, loss=0.00756]"
     ]
    }
   ],
   "source": [
    "sequence_length = 4\n",
    "overlap = 3\n",
    "batch_size = 25\n",
    "input_dim = len(data[0]) - 1\n",
    "hidden_dim = 256\n",
    "output_dim = 1\n",
    "dropout_prob = 0.2\n",
    "\n",
    "\n",
    "#initialize model\n",
    "device = torch.device(\"cuda\" if torch.cuda.is_available() else \"cpu\")\n",
    "print(device)\n",
    "\n",
    "MLP_model = MLP(input_dim, output_dim, sequence_length).to(device)\n",
    "LSTM_model = LSTM(input_dim, hidden_dim, output_dim).to(device)\n",
    "LSTM_AT_model = LSTMAttentionRegressor(input_dim, hidden_dim, output_dim).to(device)\n",
    "CNN_LSTM_AM_model = CNN_LSTM_AM(input_dim, hidden_dim, output_dim, sequence_length, dropout_prob).to(device)\n",
    "Bi_LSTM_model = BiLSTM_AM(input_dim, hidden_dim, output_dim, sequence_length, dropout_prob).to(device)\n",
    "models={'MLP':MLP_model,\n",
    "        'LSTM':LSTM_model,\n",
    "        'LSTM_AT':LSTM_AT_model,\n",
    "        'CNN_LSTM_AM':CNN_LSTM_AM_model,\n",
    "        'Bi_LSTM':Bi_LSTM_model}\n",
    "\n",
    "# Model implementation\n",
    "for model_name,model in models.items():\n",
    "  print(\"Model:\",model_name)\n",
    "  train_loader,val_loader,test_loader,test_mean_ref,test_std_ref = pre_process(data,sequence_length,overlap,batch_size)\n",
    "  predictions_test_data,true_values_test_data,train_losses,val_losses = model_run(model,train_loader,test_loader,val_loader,model_name,work_dir)\n",
    "  post_processing(test_mean_ref,test_std_ref,predictions_test_data,true_values_test_data,sequence_length,model_name,work_dir, companies,train_losses,val_losses)"
   ]
  },
  {
   "cell_type": "code",
   "execution_count": 27,
   "metadata": {},
   "outputs": [
    {
     "name": "stdout",
     "output_type": "stream",
     "text": [
      "data1 {'MLP': [0.272466633434826, 0.20043014431173362, 0.18822944976138362, 0.18080710429381228, 0.1741699259010155, 0.1678062318794978, 0.16153303196846264, 0.15609753011980615, 0.15181620361901466, 0.14629045856328332, 0.14225023871671721, 0.1372927618306077, 0.13302574987267424, 0.12926186555661454, 0.1251586716800826, 0.12167931243198589, 0.11827554480826374, 0.11531916623355354, 0.11231762215097263, 0.1099705916394861, 0.10728095713492243, 0.10542180752706129, 0.10281683155295594, 0.10094190183771654, 0.0981410960525887, 0.09717468838704732, 0.09505652659000889, 0.09374628885133753, 0.09224060445764383, 0.09124455759317739, 0.08882821314590002, 0.08787708824286626, 0.0864079454302073, 0.08602454927114335, 0.08398820510318132, 0.08327228906827695, 0.0819420460170121, 0.08088808392426121, 0.07992925060150251, 0.07974330663227869, 0.07857673952588945, 0.07733129755807121, 0.0761977697481672, 0.07588296964166762, 0.075097281494572, 0.0746819764952245, 0.07423718518304662, 0.07369341989016444, 0.07265976093590328, 0.07265530110388432]}\n",
      "data2 {'LSTM': [0.23482247091710637, 0.18208671405673163, 0.17177214523801831, 0.16438068523215846, 0.15753415060510964, 0.15096955222563274, 0.14401955835559516, 0.13723527014400194, 0.130047204078248, 0.12352434382999986, 0.11630900602932405, 0.10942524753464146, 0.10342084956506979, 0.097306837516064, 0.09133019221086014, 0.08591144897792592, 0.08060603149167168, 0.07553838035102395, 0.07080995062709723, 0.06646415210493348, 0.06219336679439326, 0.058518849442772004, 0.05492236224167487, 0.05159413687265699, 0.04838855433804879, 0.04541910432389741, 0.042537052653195906, 0.040002119040509196, 0.037430672832407794, 0.03515811468251709, 0.03308185643443613, 0.03094635059488464, 0.029086553121064347, 0.02734946939314496, 0.025741245035935237, 0.024214063235731432, 0.022816560923125593, 0.021406787427419905, 0.020178308820555137, 0.019039845811458424, 0.01788308964368075, 0.016926560555648555, 0.015994716199648925, 0.015111691821478243, 0.014155937794147581, 0.013503521626114713, 0.012713943591151494, 0.012064744458482763, 0.011428101251017769, 0.010816881229485605]}\n"
     ]
    }
   ],
   "source": [
    "with open(r\"C:\\Users\\17436\\OneDrive\\desktop\\ECSE 552\\Project\\final_results1\\train_loss_MLP.json\", 'r') as f1:\n",
    "    data1 = json.load(f1)\n",
    "\n",
    "# Load the second JSON file\n",
    "with open(r\"C:\\Users\\17436\\OneDrive\\desktop\\ECSE 552\\Project\\final_results1\\train_loss_LSTM.json\", 'r') as f2:\n",
    "    data2 = json.load(f2)\n",
    "\n",
    "with open(r\"C:\\Users\\17436\\OneDrive\\desktop\\ECSE 552\\Project\\final_results1\\train_loss_LSTM_AT.json\", 'r') as f3:\n",
    "    data3 = json.load(f3)\n",
    "\n",
    "with open(r\"C:\\Users\\17436\\OneDrive\\desktop\\ECSE 552\\Project\\final_results1\\train_loss_CNN_LSTM_AM.json\", 'r') as f4:\n",
    "    data4 = json.load(f4)\n",
    "    \n",
    "with open(r\"C:\\Users\\17436\\OneDrive\\desktop\\ECSE 552\\Project\\final_results1\\train_loss_Bi_LSTM.json\", 'r') as f5:\n",
    "    data5 = json.load(f5)\n",
    "print(\"data1\", data1)\n",
    "print(\"data2\", data2)"
   ]
  },
  {
   "cell_type": "code",
   "execution_count": 28,
   "metadata": {},
   "outputs": [
    {
     "data": {
      "image/png": "[encoded data removed]",
      "text/plain": [
       "<Figure size 1000x600 with 1 Axes>"
      ]
     },
     "metadata": {},
     "output_type": "display_data"
    }
   ],
   "source": [
    "# Plot the curves\n",
    "plt.figure(figsize=(10, 6))\n",
    "\n",
    "# Plot data1\n",
    "plt.plot(data1['MLP'], label='MLP')\n",
    "\n",
    "# Plot data2\n",
    "plt.plot(data2['LSTM'], label='LSTM')\n",
    "\n",
    "# Plot data3\n",
    "plt.plot(data3['LSTM_AT'], label='LSTM_AT')\n",
    "\n",
    "# Plot data4\n",
    "plt.plot(data4['CNN_LSTM_AM'], label='CNN_BiLSTM_AM')\n",
    "\n",
    "plt.plot(data5['Bi_LSTM'], label='BiLSTM_AM')\n",
    "\n",
    "plt.title('Training Loss Curves')\n",
    "plt.xlabel('Epoch')\n",
    "plt.ylabel('Loss')\n",
    "plt.legend()\n",
    "plt.grid(True)\n",
    "\n",
    "# Save the plot as an image\n",
    "plt.savefig(f'{work_dir}/train_loss_all.png')\n",
    "\n",
    "# Show the plot\n",
    "plt.show()"
   ]
  },
  {
   "cell_type": "code",
   "execution_count": 21,
   "metadata": {},
   "outputs": [],
   "source": [
    "with open(r\"C:\\Users\\17436\\OneDrive\\desktop\\ECSE 552\\Project\\final_results1\\val_loss_MLP.json\", 'r') as f1:\n",
    "    data1 = json.load(f1)\n",
    "\n",
    "# Load the second JSON file\n",
    "with open(r\"C:\\Users\\17436\\OneDrive\\desktop\\ECSE 552\\Project\\final_results1\\val_loss_LSTM.json\", 'r') as f2:\n",
    "    data2 = json.load(f2)\n",
    "\n",
    "with open(r\"C:\\Users\\17436\\OneDrive\\desktop\\ECSE 552\\Project\\final_results1\\val_loss_LSTM_AT.json\", 'r') as f3:\n",
    "    data3 = json.load(f3)\n",
    "\n",
    "with open(r\"C:\\Users\\17436\\OneDrive\\desktop\\ECSE 552\\Project\\final_results1\\val_loss_CNN_LSTM_AM.json\", 'r') as f4:\n",
    "    data4 = json.load(f4)\n",
    "\n",
    "with open(r\"C:\\Users\\17436\\OneDrive\\desktop\\ECSE 552\\Project\\final_results1\\val_loss_Bi_LSTM.json\", 'r') as f5:\n",
    "    data5 = json.load(f5)"
   ]
  },
  {
   "cell_type": "code",
   "execution_count": 25,
   "metadata": {},
   "outputs": [
    {
     "data": {
      "image/png": "[encoded data removed]",
      "text/plain": [
       "<Figure size 1000x600 with 1 Axes>"
      ]
     },
     "metadata": {},
     "output_type": "display_data"
    }
   ],
   "source": [
    "plt.figure(figsize=(10, 6))\n",
    "\n",
    "# Plot data1\n",
    "plt.plot(data1['MLP'], label='MLP')\n",
    "\n",
    "# Plot data2\n",
    "plt.plot(data2['LSTM'], label='LSTM')\n",
    "\n",
    "# Plot data3\n",
    "plt.plot(data3['LSTM_AT'], label='LSTM_AT')\n",
    "\n",
    "# Plot data4\n",
    "plt.plot(data4['CNN_LSTM_AM'], label='CNN_BiLSTM_AM')\n",
    "\n",
    "plt.plot(data5['Bi_LSTM'], label='BiLSTM_AM')\n",
    "\n",
    "plt.title('Validation Loss Curves')\n",
    "plt.xlabel('Epoch')\n",
    "plt.ylabel('Loss')\n",
    "plt.legend()\n",
    "plt.grid(True)\n",
    "\n",
    "# Save the plot as an image\n",
    "plt.savefig(f'{work_dir}/val_loss_all.png')\n",
    "\n",
    "# Show the plot\n",
    "plt.show()"
   ]
  },
  {
   "cell_type": "code",
   "execution_count": 23,
   "metadata": {},
   "outputs": [
    {
     "name": "stdout",
     "output_type": "stream",
     "text": [
      "1658\n",
      "Number of elements in key A : 6\n"
     ]
    }
   ],
   "source": [
    "with open(r\"C:\\Users\\17436\\OneDrive\\desktop\\ECSE 552\\Project\\final_results1\\act_CNN_LSTM_AM.json\", 'r') as f1:\n",
    "    actual_values = json.load(f1)\n",
    "with open(r\"C:\\Users\\17436\\OneDrive\\desktop\\ECSE 552\\Project\\final_results1\\pred_CNN_LSTM_AM.json\", 'r') as f2:\n",
    "    predictions = json.load(f2)\n",
    "\n",
    "print(len(actual_values))\n",
    "key = 'A'  # Replace 'A' with the key you want to check\n",
    "num_elements = len(actual_values[key])\n",
    "print(\"Number of elements in key\", key, \":\", num_elements)"
   ]
  },
  {
   "cell_type": "code",
   "execution_count": 24,
   "metadata": {},
   "outputs": [
    {
     "name": "stdout",
     "output_type": "stream",
     "text": [
      "Length of actual_diffs: 8290\n",
      "Length of pred_diffs: 8290\n",
      "total_numbers: 8290\n",
      "correct_predictions: 4411\n",
      "Accuracy of predictions:  0.532086851628468\n"
     ]
    }
   ],
   "source": [
    "\n",
    "total_numbers = 0\n",
    "correct_predictions = 0\n",
    "actual_signs = []\n",
    "pred_signs = []\n",
    "for key in actual_values.keys():\n",
    "    actual_list = actual_values[key]\n",
    "    pred_list = predictions[key]\n",
    "\n",
    "     # Calculate differences for actual_list\n",
    "    actual_diffs = [actual_list[i + 1] - actual_list[i] for i in range(len(actual_list) - 1)]\n",
    "  \n",
    "    pred_diffs = [pred_list[i + 1] - pred_list[i] for i in range(len(pred_list) - 1)]\n",
    "\n",
    "\n",
    "    \n",
    "    # Calculate the signs for actual_diffs\n",
    "    for diff in actual_diffs:\n",
    "        sign = 1 if diff > 0 else -1 if diff < 0 else 0\n",
    "        actual_signs.append(sign)\n",
    "    \n",
    "    # Calculate the signs for pred_diffs\n",
    "    for diff in pred_diffs:\n",
    "        sign = 1 if diff > 0 else -1 if diff < 0 else 0\n",
    "        pred_signs.append(sign)\n",
    "\n",
    "#print(\"Signs of differences for actual_diffs:\", actual_signs)\n",
    "print(\"Length of actual_diffs:\", len(actual_signs))\n",
    "#print(\"Signs of differences for pred_diffs:\", pred_signs)\n",
    "print(\"Length of pred_diffs:\", len(pred_signs))\n",
    "\n",
    "for i in range(len(actual_signs)):\n",
    "    total_numbers = total_numbers + 1\n",
    "    if(actual_signs[i] == pred_signs[i]):\n",
    "        correct_predictions = correct_predictions + 1\n",
    "\n",
    "print(\"total_numbers:\", total_numbers)\n",
    "print(\"correct_predictions:\", correct_predictions)\n",
    "print(\"Accuracy of predictions: \", correct_predictions / total_numbers)"
   ]
  },
  {
   "cell_type": "code",
   "execution_count": null,
   "metadata": {},
   "outputs": [],
   "source": []
  }
 ],
 "metadata": {
  "colab": {
   "provenance": [],
   "toc_visible": true
  },
  "kernelspec": {
   "display_name": "Python 3 (ipykernel)",
   "language": "python",
   "name": "python3"
  },
  "language_info": {
   "codemirror_mode": {
    "name": "ipython",
    "version": 3
   },
   "file_extension": ".py",
   "mimetype": "text/x-python",
   "name": "python",
   "nbconvert_exporter": "python",
   "pygments_lexer": "ipython3",
   "version": "3.11.7"
  }
 },
 "nbformat": 4,
 "nbformat_minor": 4
}
